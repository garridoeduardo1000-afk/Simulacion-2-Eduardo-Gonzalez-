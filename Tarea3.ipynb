{
  "nbformat": 4,
  "nbformat_minor": 0,
  "metadata": {
    "colab": {
      "provenance": [],
      "authorship_tag": "ABX9TyMFzjOR+jNuYH+h42BYB//3",
      "include_colab_link": true
    },
    "kernelspec": {
      "name": "python3",
      "display_name": "Python 3"
    },
    "language_info": {
      "name": "python"
    }
  },
  "cells": [
    {
      "cell_type": "markdown",
      "metadata": {
        "id": "view-in-github",
        "colab_type": "text"
      },
      "source": [
        "<a href=\"https://colab.research.google.com/github/garridoeduardo1000-afk/Simulacion-2-Eduardo-Gonzalez-/blob/main/Tarea3.ipynb\" target=\"_parent\"><img src=\"https://colab.research.google.com/assets/colab-badge.svg\" alt=\"Open In Colab\"/></a>"
      ]
    },
    {
      "cell_type": "code",
      "execution_count": 12,
      "metadata": {
        "colab": {
          "base_uri": "https://localhost:8080/"
        },
        "id": "wYvEFI6ONj5r",
        "outputId": "713445e6-4a21-4263-c366-ffdf3d613376"
      },
      "outputs": [
        {
          "output_type": "stream",
          "name": "stdout",
          "text": [
            "Resultado de la integral aproximada: 0.7826915615\n",
            "Desviacion estandar: 0.0003139429\n",
            "Varianza: 0.0000000986\n"
          ]
        }
      ],
      "source": [
        "#Variables de control\n",
        "import numpy as np\n",
        "def g(x):\n",
        "    return(1/((x**2) + 1))\n",
        "def mcc_control(n, a, b):\n",
        "    X = []\n",
        "    Y = []\n",
        "    for i in range(n):\n",
        "        x_i = np.random.uniform(a, b)\n",
        "        X.append(x_i)\n",
        "        y_i = g(x_i)\n",
        "        Y.append(y_i)\n",
        "    Sth2 = np.var(X, ddof=1)\n",
        "    Sy2 = np.var(Y, ddof=1)\n",
        "    Sthy = np.cov(X, Y, ddof=1)[0,1]\n",
        "    Sz2 = Sth2 - (Sthy**2 / Sy2)\n",
        "\n",
        "    Z = (b - a) * np.mean(Y)\n",
        "    var_Z =  ((b - a)**2 / n) * (Sth2 - (Sthy**2) / Sy2)\n",
        "    des_Z = np.sqrt(var_Z)\n",
        "    return Z, des_Z ,var_Z\n",
        "\n",
        "r_1 = mcc_control(10000, 0, 1)\n",
        "\n",
        "print(f\"Resultado de la integral aproximada: {r_1[0]:.10f}\")\n",
        "print(f\"Desviacion estandar: {r_1[1]:.10f}\")\n",
        "print(f\"Varianza: {r_1[2]:.10f}\")\n",
        "\n"
      ]
    },
    {
      "cell_type": "code",
      "source": [
        "#crudo\n",
        "def mcc(n, a, b):\n",
        "    Y = []\n",
        "    for i in range(n):\n",
        "        x_i = np.random.uniform(a, b)\n",
        "        y_i = g(x_i)\n",
        "        Y.append(y_i)\n",
        "    theta = (b - a) * np.mean(Y)\n",
        "    var_theta = (((b-a)**2)/n)* np.var(Y,ddof= 1)\n",
        "    des_theta = np.sqrt(var_theta)\n",
        "    return theta, des_theta ,var_theta\n",
        "\n",
        "r_2 = mcc(10000, 0, 1)\n",
        "print( f\"Resultado de la integral aproximada: {r_2[0]:.10f}\")\n",
        "print(f\"El error estándar de aproximación (desviación estándar) es: {r_2[1]:.10f}\")\n",
        "print(f\"El error estándar de aproximación al cuadrado (varianza) es: {r_2[2]:.10f}\")\n",
        "\n"
      ],
      "metadata": {
        "colab": {
          "base_uri": "https://localhost:8080/"
        },
        "id": "sTezuyiqNtiJ",
        "outputId": "7a03bad8-c8a0-4f85-de61-d3960dd80664"
      },
      "execution_count": 14,
      "outputs": [
        {
          "output_type": "stream",
          "name": "stdout",
          "text": [
            "Resultado de la integral aproximada: 0.7866454944\n",
            "El error estándar de aproximación (desviación estándar) es: 0.0016019740\n",
            "El error estándar de aproximación al cuadrado (varianza) es: 0.0000025663\n"
          ]
        }
      ]
    },
    {
      "cell_type": "code",
      "source": [
        "#varuables de control vs crudo\n",
        "def comp(a, b, n):\n",
        "  var_control = r_1[2]\n",
        "  var_crudo = r_2[2]\n",
        "  c = np.abs(( 1 - (var_control/var_crudo) ) * 100)\n",
        "  return c\n",
        "r_comp = comp(0, 1, 10000)\n",
        "print(f\"Hubo una reduccion del {r_comp:.5f}% en la varianza usando la tecnica de variables de control en Monte Carlo Crudo\")"
      ],
      "metadata": {
        "colab": {
          "base_uri": "https://localhost:8080/"
        },
        "id": "dkJweX5FNzwe",
        "outputId": "b6792b01-0c87-4d93-b394-7adf6957af3a"
      },
      "execution_count": 16,
      "outputs": [
        {
          "output_type": "stream",
          "name": "stdout",
          "text": [
            "Hubo una reduccion del 96.15948% en la varianza usando la tecnica de variables de control en Monte Carlo Crudo\n"
          ]
        }
      ]
    }
  ]
}