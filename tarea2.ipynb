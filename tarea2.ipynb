{
  "nbformat": 4,
  "nbformat_minor": 0,
  "metadata": {
    "colab": {
      "provenance": [],
      "authorship_tag": "ABX9TyMDFsJuYZVBxFSkuFIPFncW",
      "include_colab_link": true
    },
    "kernelspec": {
      "name": "python3",
      "display_name": "Python 3"
    },
    "language_info": {
      "name": "python"
    }
  },
  "cells": [
    {
      "cell_type": "markdown",
      "metadata": {
        "id": "view-in-github",
        "colab_type": "text"
      },
      "source": [
        "<a href=\"https://colab.research.google.com/github/garridoeduardo1000-afk/Simulacion-2-Eduardo-Gonzalez-/blob/main/tarea2.ipynb\" target=\"_parent\"><img src=\"https://colab.research.google.com/assets/colab-badge.svg\" alt=\"Open In Colab\"/></a>"
      ]
    },
    {
      "cell_type": "code",
      "execution_count": 6,
      "metadata": {
        "colab": {
          "base_uri": "https://localhost:8080/"
        },
        "id": "qDazQ6EP7WYq",
        "outputId": "08554b07-7030-4a55-b3cb-9b3ffd976311"
      },
      "outputs": [
        {
          "output_type": "stream",
          "name": "stdout",
          "text": [
            "Método Crudo con Antitéticas:\n",
            " Media: 0.6299548524263632\n",
            " Varianza: 6.235587376091985e-06\n",
            " Tiempo: 0.07250094099981652\n",
            "se podria aplicar al metodo de acierto y error?\n",
            "no es recomendable aplicarlo ya que al aplicar el metodo de variables antiteticas en muchas ocaciones \n",
            " g(u) y g(1-u) estan correlacionadas de forma negativa que quiero decir con esto \n",
            " mientras uno es grande el otro tiende a ser chico lo que ocasiona que la varianza promedio baje mucho\n"
          ]
        }
      ],
      "source": [
        "import numpy as np\n",
        "import random as rd\n",
        "import time\n",
        "\n",
        "# Función a integrar\n",
        "def g(x):\n",
        "    return np.sqrt(np.arctan(x))\n",
        "\n",
        "# Metodo Monte Carlo Crudo con Variables Antitéticas\n",
        "def variable_antitetica(N, n):\n",
        "    start_time = time.perf_counter()\n",
        "    resultados = []\n",
        "\n",
        "    for _ in range(n):  # número de repeticiones\n",
        "        lista = []\n",
        "        for _ in range(N // 2):  # N debe ser par, ya que  generamos pares (u, 1-u)\n",
        "            u = rd.random()\n",
        "            val = 0.5 * (g(u) + g(1 - u))  # promedio antitético\n",
        "            lista.append(val)\n",
        "        resultados.append(np.mean(lista))\n",
        "\n",
        "    end_time = time.perf_counter()\n",
        "    execution_time = end_time - start_time\n",
        "    return np.mean(resultados), np.var(resultados), execution_time\n",
        "\n",
        "# Código principal\n",
        "mean_ant, var_ant, t_ant = variable_antitetica(1000, 30)\n",
        "\n",
        "print(\"Método Crudo con Antitéticas:\")\n",
        "print(\" Media:\", mean_ant)\n",
        "print(\" Varianza:\", var_ant)\n",
        "print(\" Tiempo:\", t_ant)\n",
        "\n",
        "print(\"se podria aplicar al metodo de acierto y error?\")\n",
        "print(\"no es recomendable aplicarlo ya que al aplicar el metodo de variables antiteticas en muchas ocaciones \\n g(u) y g(1-u) estan correlacionadas de forma negativa que quiero decir con esto \\n mientras uno es grande el otro tiende a ser chico lo que ocasiona que la varianza promedio baje mucho\")\n",
        "\n"
      ]
    },
    {
      "cell_type": "code",
      "source": [],
      "metadata": {
        "id": "BptYBkQZKa-_"
      },
      "execution_count": null,
      "outputs": []
    }
  ]
}