{
  "nbformat": 4,
  "nbformat_minor": 0,
  "metadata": {
    "colab": {
      "provenance": [],
      "authorship_tag": "ABX9TyOh+dkFbg+B6dnk3nfvbmN1",
      "include_colab_link": true
    },
    "kernelspec": {
      "name": "python3",
      "display_name": "Python 3"
    },
    "language_info": {
      "name": "python"
    }
  },
  "cells": [
    {
      "cell_type": "markdown",
      "metadata": {
        "id": "view-in-github",
        "colab_type": "text"
      },
      "source": [
        "<a href=\"https://colab.research.google.com/github/garridoeduardo1000-afk/Simulacion-2-Eduardo-Gonzalez-/blob/main/Tarea1.ipynb\" target=\"_parent\"><img src=\"https://colab.research.google.com/assets/colab-badge.svg\" alt=\"Open In Colab\"/></a>"
      ]
    },
    {
      "cell_type": "code",
      "execution_count": 17,
      "metadata": {
        "colab": {
          "base_uri": "https://localhost:8080/"
        },
        "id": "1fD9A50c1K8u",
        "outputId": "89302da9-6a97-40b7-9a1d-a5272336c764"
      },
      "outputs": [
        {
          "output_type": "stream",
          "name": "stdout",
          "text": [
            "Método Acierto y Error:\n",
            "media 0.62764\n",
            "varianza 0.00025163040000000044\n",
            "tiempo 0.11202585499995621\n",
            "Método Crudo:\n",
            "media 0.6287080280939489\n",
            "varianza 3.2149982334701125e-05\n",
            "tiempo 0.10504615499985448\n",
            "Eficiencia : 8.34680900626\n"
          ]
        }
      ],
      "source": [
        "import numpy as np\n",
        "import matplotlib.pyplot as plt\n",
        "import random as rd\n",
        "import time\n",
        "\n",
        "def funcion_integral(x): #funcion a integrar\n",
        "    return np.sqrt(np.arctan(x))\n",
        "\n",
        "def estimacion(N):\n",
        "    aciertos = 0\n",
        "    for i in range(N):\n",
        "        x = rd.random()\n",
        "        y = rd.random()\n",
        "        if y <= funcion_integral(x):\n",
        "            aciertos += 1\n",
        "    I = aciertos / N  # Fórmula para el estimador p^ = N_a / N\n",
        "    return I\n",
        "#metodo acierto y error\n",
        "def acierto_error(N, n):  # donde n es el numero de estimaciones\n",
        "    start_time = time.perf_counter()\n",
        "    lista = []\n",
        "    for i in range(n):\n",
        "        E = estimacion(N)\n",
        "        lista.append(E)\n",
        "    end_time = time.perf_counter()\n",
        "    execution_time = end_time - start_time\n",
        "    return np.mean(lista), np.var(lista), execution_time\n",
        "#metodo crudo\n",
        "def crudo(N, n):\n",
        "    start_time = time.perf_counter()\n",
        "    resultados_c = []\n",
        "    for i in range(n):\n",
        "        lista_c = []\n",
        "        for j in range(N):  # donde N es el tamaño de la muestra\n",
        "            u = rd.random()\n",
        "            lista_c.append(funcion_integral(u))\n",
        "        resultados_c.append(np.mean(lista_c))\n",
        "    end_time = time.perf_counter()\n",
        "    execution_time = end_time - start_time\n",
        "    return np.mean(resultados_c), np.var(resultados_c), execution_time\n",
        "\n",
        "# EFICIENCIA\n",
        "mean1, var1, t1 = acierto_error(1000, 50)\n",
        "mean2, var2, t2 = crudo(1000, 50)\n",
        "E = (t1 * var1) / (t2 * var2)\n",
        "\n",
        "print(\"Método Acierto y Error:\")\n",
        "print(\"media\",mean1)\n",
        "print(\"varianza\",var1)\n",
        "print(\"tiempo\",t1)\n",
        "print(\"Método Crudo:\")\n",
        "print(\"media\",mean2)\n",
        "print(\"varianza\",var2)\n",
        "print(\"tiempo\", t2)\n",
        "print(\"Eficiencia :\", E)\n"
      ]
    }
  ]
}